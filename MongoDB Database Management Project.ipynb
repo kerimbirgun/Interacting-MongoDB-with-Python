{
 "cells": [
  {
   "cell_type": "code",
   "execution_count": 8,
   "metadata": {},
   "outputs": [],
   "source": [
    "import pymongo"
   ]
  },
  {
   "cell_type": "code",
   "execution_count": 12,
   "metadata": {},
   "outputs": [],
   "source": [
    "from pymongo import MongoClient"
   ]
  },
  {
   "cell_type": "code",
   "execution_count": 68,
   "metadata": {},
   "outputs": [],
   "source": [
    "client = MongoClient()"
   ]
  },
  {
   "cell_type": "code",
   "execution_count": 165,
   "metadata": {},
   "outputs": [],
   "source": [
    "db = client['virtual_library']"
   ]
  },
  {
   "cell_type": "code",
   "execution_count": 166,
   "metadata": {},
   "outputs": [
    {
     "data": {
      "text/plain": [
       "Database(MongoClient(host=['localhost:27017'], document_class=dict, tz_aware=False, connect=True), 'virtual_library')"
      ]
     },
     "execution_count": 166,
     "metadata": {},
     "output_type": "execute_result"
    }
   ],
   "source": [
    "db"
   ]
  },
  {
   "cell_type": "code",
   "execution_count": 167,
   "metadata": {},
   "outputs": [
    {
     "data": {
      "text/plain": [
       "Collection(Database(MongoClient(host=['localhost:27017'], document_class=dict, tz_aware=False, connect=True), 'virtual_library'), 'checkout')"
      ]
     },
     "execution_count": 167,
     "metadata": {},
     "output_type": "execute_result"
    }
   ],
   "source": [
    "db.checkout"
   ]
  },
  {
   "cell_type": "code",
   "execution_count": 168,
   "metadata": {},
   "outputs": [],
   "source": [
    "import pandas as pd"
   ]
  },
  {
   "cell_type": "code",
   "execution_count": null,
   "metadata": {},
   "outputs": [],
   "source": [
    "## VISUALIZE EXISTING DATA COLLECTIONS VIA PANDAS"
   ]
  },
  {
   "cell_type": "code",
   "execution_count": 259,
   "metadata": {
    "scrolled": true
   },
   "outputs": [
    {
     "data": {
      "text/html": [
       "<div>\n",
       "<style scoped>\n",
       "    .dataframe tbody tr th:only-of-type {\n",
       "        vertical-align: middle;\n",
       "    }\n",
       "\n",
       "    .dataframe tbody tr th {\n",
       "        vertical-align: top;\n",
       "    }\n",
       "\n",
       "    .dataframe thead th {\n",
       "        text-align: right;\n",
       "    }\n",
       "</style>\n",
       "<table border=\"1\" class=\"dataframe\">\n",
       "  <thead>\n",
       "    <tr style=\"text-align: right;\">\n",
       "      <th></th>\n",
       "      <th>_id</th>\n",
       "      <th>checkout_id</th>\n",
       "      <th>user_id</th>\n",
       "      <th>name</th>\n",
       "      <th>book_id</th>\n",
       "      <th>title</th>\n",
       "      <th>topics</th>\n",
       "      <th>checkout_date</th>\n",
       "      <th>uni</th>\n",
       "    </tr>\n",
       "  </thead>\n",
       "  <tbody>\n",
       "    <tr>\n",
       "      <th>0</th>\n",
       "      <td>5ea34be512ec5b38acf68b49</td>\n",
       "      <td>1</td>\n",
       "      <td>3</td>\n",
       "      <td>Darth Vader</td>\n",
       "      <td>984566781</td>\n",
       "      <td>Machine Learning with R</td>\n",
       "      <td>Machine Learning</td>\n",
       "      <td>2019-03-03 04:00:00</td>\n",
       "      <td>Bogazici</td>\n",
       "    </tr>\n",
       "    <tr>\n",
       "      <th>1</th>\n",
       "      <td>5ea34be512ec5b38acf68b4a</td>\n",
       "      <td>2</td>\n",
       "      <td>2</td>\n",
       "      <td>Tarkan</td>\n",
       "      <td>984566781</td>\n",
       "      <td>Machine Learning with R</td>\n",
       "      <td>Machine Learning</td>\n",
       "      <td>2019-08-08 04:00:00</td>\n",
       "      <td>Columbia</td>\n",
       "    </tr>\n",
       "    <tr>\n",
       "      <th>2</th>\n",
       "      <td>5ea34be512ec5b38acf68b4b</td>\n",
       "      <td>3</td>\n",
       "      <td>5</td>\n",
       "      <td>Legolas</td>\n",
       "      <td>984566781</td>\n",
       "      <td>Machine Learning with R</td>\n",
       "      <td>Machine Learning</td>\n",
       "      <td>2019-02-02 04:00:00</td>\n",
       "      <td>Georgetown</td>\n",
       "    </tr>\n",
       "    <tr>\n",
       "      <th>3</th>\n",
       "      <td>5ea34be512ec5b38acf68b4c</td>\n",
       "      <td>4</td>\n",
       "      <td>5</td>\n",
       "      <td>Legolas</td>\n",
       "      <td>123456789</td>\n",
       "      <td>Chess</td>\n",
       "      <td>Fiction</td>\n",
       "      <td>2019-04-08 04:00:00</td>\n",
       "      <td>Georgetown</td>\n",
       "    </tr>\n",
       "    <tr>\n",
       "      <th>4</th>\n",
       "      <td>5ea34be512ec5b38acf68b4d</td>\n",
       "      <td>5</td>\n",
       "      <td>3</td>\n",
       "      <td>Darth Vader</td>\n",
       "      <td>444313722</td>\n",
       "      <td>War and Peace</td>\n",
       "      <td>Fiction</td>\n",
       "      <td>2019-11-11 04:00:00</td>\n",
       "      <td>Bogazici</td>\n",
       "    </tr>\n",
       "  </tbody>\n",
       "</table>\n",
       "</div>"
      ],
      "text/plain": [
       "                        _id  checkout_id  user_id         name    book_id  \\\n",
       "0  5ea34be512ec5b38acf68b49            1        3  Darth Vader  984566781   \n",
       "1  5ea34be512ec5b38acf68b4a            2        2       Tarkan  984566781   \n",
       "2  5ea34be512ec5b38acf68b4b            3        5      Legolas  984566781   \n",
       "3  5ea34be512ec5b38acf68b4c            4        5      Legolas  123456789   \n",
       "4  5ea34be512ec5b38acf68b4d            5        3  Darth Vader  444313722   \n",
       "\n",
       "                     title            topics       checkout_date         uni  \n",
       "0  Machine Learning with R  Machine Learning 2019-03-03 04:00:00    Bogazici  \n",
       "1  Machine Learning with R  Machine Learning 2019-08-08 04:00:00    Columbia  \n",
       "2  Machine Learning with R  Machine Learning 2019-02-02 04:00:00  Georgetown  \n",
       "3                    Chess           Fiction 2019-04-08 04:00:00  Georgetown  \n",
       "4            War and Peace           Fiction 2019-11-11 04:00:00    Bogazici  "
      ]
     },
     "execution_count": 259,
     "metadata": {},
     "output_type": "execute_result"
    }
   ],
   "source": [
    "py_checkout = pd.DataFrame(list(db.checkout.find()))\n",
    "py_checkout.head(10)"
   ]
  },
  {
   "cell_type": "code",
   "execution_count": 260,
   "metadata": {},
   "outputs": [
    {
     "data": {
      "text/html": [
       "<div>\n",
       "<style scoped>\n",
       "    .dataframe tbody tr th:only-of-type {\n",
       "        vertical-align: middle;\n",
       "    }\n",
       "\n",
       "    .dataframe tbody tr th {\n",
       "        vertical-align: top;\n",
       "    }\n",
       "\n",
       "    .dataframe thead th {\n",
       "        text-align: right;\n",
       "    }\n",
       "</style>\n",
       "<table border=\"1\" class=\"dataframe\">\n",
       "  <thead>\n",
       "    <tr style=\"text-align: right;\">\n",
       "      <th></th>\n",
       "      <th>_id</th>\n",
       "      <th>book_id</th>\n",
       "      <th>title</th>\n",
       "      <th>primary_author</th>\n",
       "      <th>date_of_publication</th>\n",
       "      <th>number_pages</th>\n",
       "      <th>publisher</th>\n",
       "      <th>translator</th>\n",
       "      <th>fiction</th>\n",
       "      <th>topics</th>\n",
       "    </tr>\n",
       "  </thead>\n",
       "  <tbody>\n",
       "    <tr>\n",
       "      <th>0</th>\n",
       "      <td>5e874a1c7a27740dc0a5b5e9</td>\n",
       "      <td>123456789</td>\n",
       "      <td>Chess</td>\n",
       "      <td>Stefan Zweig</td>\n",
       "      <td>2016-04-06 04:00:00</td>\n",
       "      <td>128</td>\n",
       "      <td>Columbia</td>\n",
       "      <td>True</td>\n",
       "      <td>True</td>\n",
       "      <td>fiction</td>\n",
       "    </tr>\n",
       "    <tr>\n",
       "      <th>1</th>\n",
       "      <td>5e874a1c7a27740dc0a5b5ea</td>\n",
       "      <td>984566781</td>\n",
       "      <td>Machine Learning with R</td>\n",
       "      <td>Diego Maradona</td>\n",
       "      <td>2001-03-03 04:00:00</td>\n",
       "      <td>541</td>\n",
       "      <td>Xzatz</td>\n",
       "      <td>True</td>\n",
       "      <td>False</td>\n",
       "      <td>[Machine Learning, Statistics, R]</td>\n",
       "    </tr>\n",
       "    <tr>\n",
       "      <th>2</th>\n",
       "      <td>5e874a1c7a27740dc0a5b5eb</td>\n",
       "      <td>444313722</td>\n",
       "      <td>War and Peace</td>\n",
       "      <td>Lev Tolstoy</td>\n",
       "      <td>1955-07-01 04:00:00</td>\n",
       "      <td>771</td>\n",
       "      <td>Kremlin</td>\n",
       "      <td>True</td>\n",
       "      <td>True</td>\n",
       "      <td>fiction</td>\n",
       "    </tr>\n",
       "  </tbody>\n",
       "</table>\n",
       "</div>"
      ],
      "text/plain": [
       "                        _id    book_id                    title  \\\n",
       "0  5e874a1c7a27740dc0a5b5e9  123456789                    Chess   \n",
       "1  5e874a1c7a27740dc0a5b5ea  984566781  Machine Learning with R   \n",
       "2  5e874a1c7a27740dc0a5b5eb  444313722            War and Peace   \n",
       "\n",
       "   primary_author date_of_publication  number_pages publisher  translator  \\\n",
       "0    Stefan Zweig 2016-04-06 04:00:00           128  Columbia        True   \n",
       "1  Diego Maradona 2001-03-03 04:00:00           541     Xzatz        True   \n",
       "2     Lev Tolstoy 1955-07-01 04:00:00           771   Kremlin        True   \n",
       "\n",
       "   fiction                             topics  \n",
       "0     True                            fiction  \n",
       "1    False  [Machine Learning, Statistics, R]  \n",
       "2     True                            fiction  "
      ]
     },
     "execution_count": 260,
     "metadata": {},
     "output_type": "execute_result"
    }
   ],
   "source": [
    "py_e_books = pd.DataFrame(list(db.e_books.find()))\n",
    "py_e_books.head(10)"
   ]
  },
  {
   "cell_type": "code",
   "execution_count": 261,
   "metadata": {},
   "outputs": [
    {
     "data": {
      "text/html": [
       "<div>\n",
       "<style scoped>\n",
       "    .dataframe tbody tr th:only-of-type {\n",
       "        vertical-align: middle;\n",
       "    }\n",
       "\n",
       "    .dataframe tbody tr th {\n",
       "        vertical-align: top;\n",
       "    }\n",
       "\n",
       "    .dataframe thead th {\n",
       "        text-align: right;\n",
       "    }\n",
       "</style>\n",
       "<table border=\"1\" class=\"dataframe\">\n",
       "  <thead>\n",
       "    <tr style=\"text-align: right;\">\n",
       "      <th></th>\n",
       "      <th>_id</th>\n",
       "      <th>user_id</th>\n",
       "      <th>name</th>\n",
       "      <th>phone</th>\n",
       "      <th>address</th>\n",
       "      <th>university_affil</th>\n",
       "    </tr>\n",
       "  </thead>\n",
       "  <tbody>\n",
       "    <tr>\n",
       "      <th>0</th>\n",
       "      <td>5e874db97a27740dc0a5b5ec</td>\n",
       "      <td>1</td>\n",
       "      <td>Micheal Jackson</td>\n",
       "      <td>3251711000</td>\n",
       "      <td>113th W 525</td>\n",
       "      <td>Columbia</td>\n",
       "    </tr>\n",
       "    <tr>\n",
       "      <th>1</th>\n",
       "      <td>5e874db97a27740dc0a5b5ed</td>\n",
       "      <td>2</td>\n",
       "      <td>Tarkan</td>\n",
       "      <td>2151374000</td>\n",
       "      <td>101th W 403</td>\n",
       "      <td>Columbia</td>\n",
       "    </tr>\n",
       "    <tr>\n",
       "      <th>2</th>\n",
       "      <td>5e874db97a27740dc0a5b5ee</td>\n",
       "      <td>3</td>\n",
       "      <td>Darth Vader</td>\n",
       "      <td>4544734000</td>\n",
       "      <td>108th E 203</td>\n",
       "      <td>Bogazici</td>\n",
       "    </tr>\n",
       "    <tr>\n",
       "      <th>3</th>\n",
       "      <td>5e874db97a27740dc0a5b5ef</td>\n",
       "      <td>4</td>\n",
       "      <td>Obi Wan Kenobi</td>\n",
       "      <td>7852743000</td>\n",
       "      <td>81th W 45</td>\n",
       "      <td>North Carolina</td>\n",
       "    </tr>\n",
       "    <tr>\n",
       "      <th>4</th>\n",
       "      <td>5e874db97a27740dc0a5b5f0</td>\n",
       "      <td>5</td>\n",
       "      <td>Legolas</td>\n",
       "      <td>9843723100</td>\n",
       "      <td>45th E 55</td>\n",
       "      <td>Georgetown</td>\n",
       "    </tr>\n",
       "  </tbody>\n",
       "</table>\n",
       "</div>"
      ],
      "text/plain": [
       "                        _id  user_id             name       phone  \\\n",
       "0  5e874db97a27740dc0a5b5ec        1  Micheal Jackson  3251711000   \n",
       "1  5e874db97a27740dc0a5b5ed        2           Tarkan  2151374000   \n",
       "2  5e874db97a27740dc0a5b5ee        3      Darth Vader  4544734000   \n",
       "3  5e874db97a27740dc0a5b5ef        4   Obi Wan Kenobi  7852743000   \n",
       "4  5e874db97a27740dc0a5b5f0        5          Legolas  9843723100   \n",
       "\n",
       "       address university_affil  \n",
       "0  113th W 525         Columbia  \n",
       "1  101th W 403         Columbia  \n",
       "2  108th E 203         Bogazici  \n",
       "3    81th W 45   North Carolina  \n",
       "4    45th E 55       Georgetown  "
      ]
     },
     "execution_count": 261,
     "metadata": {},
     "output_type": "execute_result"
    }
   ],
   "source": [
    "py_users = pd.DataFrame(list(db.users.find()))\n",
    "py_users.head(10)"
   ]
  },
  {
   "cell_type": "code",
   "execution_count": 58,
   "metadata": {},
   "outputs": [],
   "source": [
    "## MODIFY \"CHECKOUT\" COLLECTION BY ADDING A \"REVIEW\" COLUMN"
   ]
  },
  {
   "cell_type": "code",
   "execution_count": 262,
   "metadata": {},
   "outputs": [
    {
     "data": {
      "text/plain": [
       "<pymongo.results.UpdateResult at 0x1ff842d6f88>"
      ]
     },
     "execution_count": 262,
     "metadata": {},
     "output_type": "execute_result"
    }
   ],
   "source": [
    "db.checkout.update_many({}, {\"$set\": {\"review\":[\"review1\",\"review2\",\"review3\"]}}, upsert=False, array_filters=None)"
   ]
  },
  {
   "cell_type": "code",
   "execution_count": 263,
   "metadata": {},
   "outputs": [
    {
     "data": {
      "text/plain": [
       "<pymongo.results.UpdateResult at 0x1ff8348f488>"
      ]
     },
     "execution_count": 263,
     "metadata": {},
     "output_type": "execute_result"
    }
   ],
   "source": [
    "myquery = { \"checkout_id\" :1}\n",
    "newvalues = { \"$set\": { \"review\":[\"informative\",\"insightful\",\"concise\"] } }\n",
    "db.checkout.update_many(myquery, newvalues)"
   ]
  },
  {
   "cell_type": "code",
   "execution_count": 264,
   "metadata": {},
   "outputs": [
    {
     "data": {
      "text/plain": [
       "<pymongo.results.UpdateResult at 0x1ff842a7548>"
      ]
     },
     "execution_count": 264,
     "metadata": {},
     "output_type": "execute_result"
    }
   ],
   "source": [
    "myquery = { \"checkout_id\" :2}\n",
    "newvalues = { \"$set\": { \"review\":[\"detailed\",\"visual\",\"informative\"] } }\n",
    "db.checkout.update_many(myquery, newvalues)"
   ]
  },
  {
   "cell_type": "code",
   "execution_count": 265,
   "metadata": {},
   "outputs": [
    {
     "data": {
      "text/plain": [
       "<pymongo.results.UpdateResult at 0x1ff842d5208>"
      ]
     },
     "execution_count": 265,
     "metadata": {},
     "output_type": "execute_result"
    }
   ],
   "source": [
    "myquery = { \"checkout_id\" :3}\n",
    "newvalues = { \"$set\": { \"review\":[\"instructive\",\"exciting\",\"clear\"] } }\n",
    "db.checkout.update_many(myquery, newvalues)"
   ]
  },
  {
   "cell_type": "code",
   "execution_count": 266,
   "metadata": {},
   "outputs": [
    {
     "data": {
      "text/plain": [
       "<pymongo.results.UpdateResult at 0x1ff842d5988>"
      ]
     },
     "execution_count": 266,
     "metadata": {},
     "output_type": "execute_result"
    }
   ],
   "source": [
    "myquery = { \"checkout_id\" :4}\n",
    "newvalues = { \"$set\": { \"review\":[\"thrilling\",\"fantastic\",\"lots of twists!\"] } }\n",
    "db.checkout.update_many(myquery, newvalues)"
   ]
  },
  {
   "cell_type": "code",
   "execution_count": 267,
   "metadata": {},
   "outputs": [
    {
     "data": {
      "text/plain": [
       "<pymongo.results.UpdateResult at 0x1ff842d5e08>"
      ]
     },
     "execution_count": 267,
     "metadata": {},
     "output_type": "execute_result"
    }
   ],
   "source": [
    "myquery = { \"checkout_id\" :5}\n",
    "newvalues = { \"$set\": { \"review\":[\"romantic\",\"sentimental\",\"historic\"] } }\n",
    "db.checkout.update_many(myquery, newvalues)"
   ]
  },
  {
   "cell_type": "code",
   "execution_count": 268,
   "metadata": {},
   "outputs": [
    {
     "data": {
      "text/html": [
       "<div>\n",
       "<style scoped>\n",
       "    .dataframe tbody tr th:only-of-type {\n",
       "        vertical-align: middle;\n",
       "    }\n",
       "\n",
       "    .dataframe tbody tr th {\n",
       "        vertical-align: top;\n",
       "    }\n",
       "\n",
       "    .dataframe thead th {\n",
       "        text-align: right;\n",
       "    }\n",
       "</style>\n",
       "<table border=\"1\" class=\"dataframe\">\n",
       "  <thead>\n",
       "    <tr style=\"text-align: right;\">\n",
       "      <th></th>\n",
       "      <th>_id</th>\n",
       "      <th>checkout_id</th>\n",
       "      <th>user_id</th>\n",
       "      <th>name</th>\n",
       "      <th>book_id</th>\n",
       "      <th>title</th>\n",
       "      <th>topics</th>\n",
       "      <th>checkout_date</th>\n",
       "      <th>uni</th>\n",
       "      <th>review</th>\n",
       "    </tr>\n",
       "  </thead>\n",
       "  <tbody>\n",
       "    <tr>\n",
       "      <th>0</th>\n",
       "      <td>5ea34be512ec5b38acf68b49</td>\n",
       "      <td>1</td>\n",
       "      <td>3</td>\n",
       "      <td>Darth Vader</td>\n",
       "      <td>984566781</td>\n",
       "      <td>Machine Learning with R</td>\n",
       "      <td>Machine Learning</td>\n",
       "      <td>2019-03-03 04:00:00</td>\n",
       "      <td>Bogazici</td>\n",
       "      <td>[informative, insightful, concise]</td>\n",
       "    </tr>\n",
       "    <tr>\n",
       "      <th>1</th>\n",
       "      <td>5ea34be512ec5b38acf68b4a</td>\n",
       "      <td>2</td>\n",
       "      <td>2</td>\n",
       "      <td>Tarkan</td>\n",
       "      <td>984566781</td>\n",
       "      <td>Machine Learning with R</td>\n",
       "      <td>Machine Learning</td>\n",
       "      <td>2019-08-08 04:00:00</td>\n",
       "      <td>Columbia</td>\n",
       "      <td>[detailed, visual, informative]</td>\n",
       "    </tr>\n",
       "    <tr>\n",
       "      <th>2</th>\n",
       "      <td>5ea34be512ec5b38acf68b4b</td>\n",
       "      <td>3</td>\n",
       "      <td>5</td>\n",
       "      <td>Legolas</td>\n",
       "      <td>984566781</td>\n",
       "      <td>Machine Learning with R</td>\n",
       "      <td>Machine Learning</td>\n",
       "      <td>2019-02-02 04:00:00</td>\n",
       "      <td>Georgetown</td>\n",
       "      <td>[instructive, exciting, clear]</td>\n",
       "    </tr>\n",
       "    <tr>\n",
       "      <th>3</th>\n",
       "      <td>5ea34be512ec5b38acf68b4c</td>\n",
       "      <td>4</td>\n",
       "      <td>5</td>\n",
       "      <td>Legolas</td>\n",
       "      <td>123456789</td>\n",
       "      <td>Chess</td>\n",
       "      <td>Fiction</td>\n",
       "      <td>2019-04-08 04:00:00</td>\n",
       "      <td>Georgetown</td>\n",
       "      <td>[thrilling, fantastic, lots of twists!]</td>\n",
       "    </tr>\n",
       "    <tr>\n",
       "      <th>4</th>\n",
       "      <td>5ea34be512ec5b38acf68b4d</td>\n",
       "      <td>5</td>\n",
       "      <td>3</td>\n",
       "      <td>Darth Vader</td>\n",
       "      <td>444313722</td>\n",
       "      <td>War and Peace</td>\n",
       "      <td>Fiction</td>\n",
       "      <td>2019-11-11 04:00:00</td>\n",
       "      <td>Bogazici</td>\n",
       "      <td>[romantic, sentimental, historic]</td>\n",
       "    </tr>\n",
       "  </tbody>\n",
       "</table>\n",
       "</div>"
      ],
      "text/plain": [
       "                        _id  checkout_id  user_id         name    book_id  \\\n",
       "0  5ea34be512ec5b38acf68b49            1        3  Darth Vader  984566781   \n",
       "1  5ea34be512ec5b38acf68b4a            2        2       Tarkan  984566781   \n",
       "2  5ea34be512ec5b38acf68b4b            3        5      Legolas  984566781   \n",
       "3  5ea34be512ec5b38acf68b4c            4        5      Legolas  123456789   \n",
       "4  5ea34be512ec5b38acf68b4d            5        3  Darth Vader  444313722   \n",
       "\n",
       "                     title            topics       checkout_date         uni  \\\n",
       "0  Machine Learning with R  Machine Learning 2019-03-03 04:00:00    Bogazici   \n",
       "1  Machine Learning with R  Machine Learning 2019-08-08 04:00:00    Columbia   \n",
       "2  Machine Learning with R  Machine Learning 2019-02-02 04:00:00  Georgetown   \n",
       "3                    Chess           Fiction 2019-04-08 04:00:00  Georgetown   \n",
       "4            War and Peace           Fiction 2019-11-11 04:00:00    Bogazici   \n",
       "\n",
       "                                    review  \n",
       "0       [informative, insightful, concise]  \n",
       "1          [detailed, visual, informative]  \n",
       "2           [instructive, exciting, clear]  \n",
       "3  [thrilling, fantastic, lots of twists!]  \n",
       "4        [romantic, sentimental, historic]  "
      ]
     },
     "execution_count": 268,
     "metadata": {},
     "output_type": "execute_result"
    }
   ],
   "source": [
    "## Observe the checkout collection after modifications (reviews are successfuly inserted)\n",
    "py_checkout = pd.DataFrame(list(db.checkout.find()))\n",
    "py_checkout.head(10)"
   ]
  },
  {
   "cell_type": "code",
   "execution_count": 216,
   "metadata": {},
   "outputs": [],
   "source": [
    " ## QUERIES WITH PANDAS"
   ]
  },
  {
   "cell_type": "code",
   "execution_count": 269,
   "metadata": {},
   "outputs": [
    {
     "data": {
      "text/plain": [
       "0    Machine Learning with R\n",
       "2    Machine Learning with R\n",
       "3                      Chess\n",
       "Name: title, dtype: object"
      ]
     },
     "execution_count": 269,
     "metadata": {},
     "output_type": "execute_result"
    }
   ],
   "source": [
    "## Which books have been checked out since such and such date\n",
    "py_checkout[(py_checkout.checkout_date <='2019-06-13 15:33') & (py_checkout.checkout_date >= '2019-01-01 13:44')]['title']"
   ]
  },
  {
   "cell_type": "code",
   "execution_count": 270,
   "metadata": {},
   "outputs": [
    {
     "data": {
      "text/plain": [
       "3        Legolas\n",
       "4    Darth Vader\n",
       "Name: name, dtype: object"
      ]
     },
     "execution_count": 270,
     "metadata": {},
     "output_type": "execute_result"
    }
   ],
   "source": [
    "## Which users have checked out such and such book\n",
    "py_checkout[(py_checkout.title == 'Chess') | (py_checkout.title == 'War and Peace')]['name']"
   ]
  },
  {
   "cell_type": "code",
   "execution_count": 271,
   "metadata": {},
   "outputs": [
    {
     "data": {
      "text/plain": [
       "3"
      ]
     },
     "execution_count": 271,
     "metadata": {},
     "output_type": "execute_result"
    }
   ],
   "source": [
    "## How many books does the library have on such and such topic\n",
    "py_checkout[(py_checkout.topics == 'Machine Learning') | (py_checkout.topics == 'Fiction')]['book_id'].nunique()"
   ]
  },
  {
   "cell_type": "code",
   "execution_count": 272,
   "metadata": {},
   "outputs": [
    {
     "data": {
      "text/plain": [
       "1    Tarkan\n",
       "Name: name, dtype: object"
      ]
     },
     "execution_count": 272,
     "metadata": {},
     "output_type": "execute_result"
    }
   ],
   "source": [
    "## Which users from Columbia University have checked out books on Machine Learning between this date and that date?\n",
    "py_checkout[(py_checkout.checkout_date <='2019-10-13 15:33') & \n",
    "            (py_checkout.checkout_date >= '2019-01-01 13:44') & (py_checkout.uni == 'Columbia')]['name']"
   ]
  },
  {
   "cell_type": "code",
   "execution_count": 273,
   "metadata": {},
   "outputs": [
    {
     "data": {
      "text/html": [
       "<div>\n",
       "<style scoped>\n",
       "    .dataframe tbody tr th:only-of-type {\n",
       "        vertical-align: middle;\n",
       "    }\n",
       "\n",
       "    .dataframe tbody tr th {\n",
       "        vertical-align: top;\n",
       "    }\n",
       "\n",
       "    .dataframe thead th {\n",
       "        text-align: right;\n",
       "    }\n",
       "</style>\n",
       "<table border=\"1\" class=\"dataframe\">\n",
       "  <thead>\n",
       "    <tr style=\"text-align: right;\">\n",
       "      <th></th>\n",
       "      <th>review</th>\n",
       "      <th>checkout_date</th>\n",
       "    </tr>\n",
       "  </thead>\n",
       "  <tbody>\n",
       "    <tr>\n",
       "      <th>1</th>\n",
       "      <td>[detailed, visual, informative]</td>\n",
       "      <td>2019-08-08 04:00:00</td>\n",
       "    </tr>\n",
       "    <tr>\n",
       "      <th>3</th>\n",
       "      <td>[thrilling, fantastic, lots of twists!]</td>\n",
       "      <td>2019-04-08 04:00:00</td>\n",
       "    </tr>\n",
       "    <tr>\n",
       "      <th>2</th>\n",
       "      <td>[instructive, exciting, clear]</td>\n",
       "      <td>2019-02-02 04:00:00</td>\n",
       "    </tr>\n",
       "  </tbody>\n",
       "</table>\n",
       "</div>"
      ],
      "text/plain": [
       "                                    review       checkout_date\n",
       "1          [detailed, visual, informative] 2019-08-08 04:00:00\n",
       "3  [thrilling, fantastic, lots of twists!] 2019-04-08 04:00:00\n",
       "2           [instructive, exciting, clear] 2019-02-02 04:00:00"
      ]
     },
     "execution_count": 273,
     "metadata": {},
     "output_type": "execute_result"
    }
   ],
   "source": [
    "## What comments have been made by any User about such and such book between such and such dates,\n",
    "## ordered from the most recent to the least recent?\n",
    "py_checkout[(py_checkout.checkout_date <='2019-11-13 15:33') & \n",
    "            (py_checkout.checkout_date >= '2019-01-01 13:44') & \n",
    "            ((py_checkout.uni == 'Columbia') | (py_checkout.uni == 'Georgetown'))\n",
    "           ][['review','checkout_date']].sort_values(by='checkout_date', ascending=False) "
   ]
  },
  {
   "cell_type": "code",
   "execution_count": 275,
   "metadata": {},
   "outputs": [
    {
     "data": {
      "text/html": [
       "<div>\n",
       "<style scoped>\n",
       "    .dataframe tbody tr th:only-of-type {\n",
       "        vertical-align: middle;\n",
       "    }\n",
       "\n",
       "    .dataframe tbody tr th {\n",
       "        vertical-align: top;\n",
       "    }\n",
       "\n",
       "    .dataframe thead th {\n",
       "        text-align: right;\n",
       "    }\n",
       "</style>\n",
       "<table border=\"1\" class=\"dataframe\">\n",
       "  <thead>\n",
       "    <tr style=\"text-align: right;\">\n",
       "      <th></th>\n",
       "      <th>title</th>\n",
       "      <th>review</th>\n",
       "    </tr>\n",
       "  </thead>\n",
       "  <tbody>\n",
       "    <tr>\n",
       "      <th>0</th>\n",
       "      <td>Machine Learning with R</td>\n",
       "      <td>[informative, insightful, concise]</td>\n",
       "    </tr>\n",
       "    <tr>\n",
       "      <th>4</th>\n",
       "      <td>War and Peace</td>\n",
       "      <td>[romantic, sentimental, historic]</td>\n",
       "    </tr>\n",
       "  </tbody>\n",
       "</table>\n",
       "</div>"
      ],
      "text/plain": [
       "                     title                              review\n",
       "0  Machine Learning with R  [informative, insightful, concise]\n",
       "4            War and Peace   [romantic, sentimental, historic]"
      ]
     },
     "execution_count": 275,
     "metadata": {},
     "output_type": "execute_result"
    }
   ],
   "source": [
    "## Show for a given User, what comments they have made about such and such book.\n",
    "py_checkout[(py_checkout.name == 'Darth Vader')][['title','review']]"
   ]
  }
 ],
 "metadata": {
  "kernelspec": {
   "display_name": "Python 3",
   "language": "python",
   "name": "python3"
  },
  "language_info": {
   "codemirror_mode": {
    "name": "ipython",
    "version": 3
   },
   "file_extension": ".py",
   "mimetype": "text/x-python",
   "name": "python",
   "nbconvert_exporter": "python",
   "pygments_lexer": "ipython3",
   "version": "3.7.6"
  }
 },
 "nbformat": 4,
 "nbformat_minor": 4
}
